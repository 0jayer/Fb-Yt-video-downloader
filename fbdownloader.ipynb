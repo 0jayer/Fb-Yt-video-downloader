{
 "cells": [
  {
   "cell_type": "code",
   "execution_count": 3,
   "metadata": {},
   "outputs": [
    {
     "name": "stdout",
     "output_type": "stream",
     "text": [
      "Downloading.........https://www.youtube.com/watch?v=0p6KVqnwPFE\n",
      "[youtube] Extracting URL: https://www.youtube.com/watch?v=0p6KVqnwPFE\n",
      "[youtube] 0p6KVqnwPFE: Downloading webpage\n",
      "[youtube] 0p6KVqnwPFE: Downloading ios player API JSON\n",
      "[youtube] 0p6KVqnwPFE: Downloading web creator player API JSON\n",
      "[youtube] 0p6KVqnwPFE: Downloading m3u8 information\n",
      "[info] 0p6KVqnwPFE: Downloading 1 format(s): 18\n",
      "[download] Destination: Iron Man 3： Malibu Mansion Attack - 2013 MOVIE CLIP (4K HD) [0p6KVqnwPFE].mp4\n",
      "[download] 100% of   12.26MiB in 00:00:42 at 292.74KiB/s   \n",
      "Download completed !!!\n"
     ]
    }
   ],
   "source": [
    "# import section \n",
    "import sys \n",
    "import yt_dlp as youtube_dl \n",
    "import os \n",
    "\n",
    "# Using try and except blocks to handle exceptions \n",
    "try: \n",
    "\t# getting URL from the user \n",
    "\turl = input(\"Enter the url of the facebook or youtube video to be downloaded: \") \n",
    "\n",
    "\t#try catch block if url is invalid\n",
    "\tres = {\"format\": \"best\"} \n",
    "\t# setting path to download the video \n",
    "\tpath = \"E:\\pythonproject\\download\"\n",
    "\t# if folder not available make one  and then set the path\n",
    "\tif not os.path.exists(path):\n",
    "\t\tos.makedirs(path)\n",
    "\tos.chdir(path) \n",
    "\t\n",
    "\t# start downloading the video\n",
    "\twith youtube_dl.YoutubeDL(res) as u: \n",
    "\t\tprint(\"Downloading.........\"+url) \n",
    "\t\t# download the video \n",
    "\t\tu.download([url]) \n",
    "\n",
    "#download cancelled/other error\t\t\n",
    "except Exception as e: \n",
    "\tprint(f\"An error occured: {e}\") \n",
    "\tsys.exit(1) \n",
    "\n",
    "print(\"Download completed !!!\") \n"
   ]
  },
  {
   "cell_type": "code",
   "execution_count": null,
   "metadata": {},
   "outputs": [],
   "source": []
  }
 ],
 "metadata": {
  "kernelspec": {
   "display_name": "Python 3",
   "language": "python",
   "name": "python3"
  },
  "language_info": {
   "codemirror_mode": {
    "name": "ipython",
    "version": 3
   },
   "file_extension": ".py",
   "mimetype": "text/x-python",
   "name": "python",
   "nbconvert_exporter": "python",
   "pygments_lexer": "ipython3",
   "version": "3.8.8"
  }
 },
 "nbformat": 4,
 "nbformat_minor": 2
}
